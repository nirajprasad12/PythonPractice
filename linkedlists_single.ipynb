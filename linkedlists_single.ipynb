{
 "cells": [
  {
   "cell_type": "code",
   "execution_count": 1,
   "id": "46d79f06-117c-4b91-991e-17ba24615416",
   "metadata": {},
   "outputs": [],
   "source": [
    "class Node:\n",
    "    def __init__(self, data = None, next = None):\n",
    "        self.data = data\n",
    "        self.next = next\n",
    "        "
   ]
  },
  {
   "cell_type": "code",
   "execution_count": 143,
   "id": "0c96961c-a876-4c72-ba7b-8a4ce2bb86fe",
   "metadata": {},
   "outputs": [],
   "source": [
    "class LinkedList:\n",
    "    def __init__(self):\n",
    "        self.head = None\n",
    "    \n",
    "    def print(self):\n",
    "        if self.head is None:\n",
    "            print(\"Linked List is Empty\")\n",
    "            return\n",
    "        \n",
    "        itr = self.head\n",
    "        llstr = ''\n",
    "        \n",
    "        while itr:\n",
    "            llstr += str(itr.data) + ' --> ' \n",
    "            itr = itr.next\n",
    "        print(llstr)\n",
    "        \n",
    "    def getLength(self):\n",
    "        counter = 0\n",
    "        if self.head is None:\n",
    "            print(\"Length is: \", counter)\n",
    "            return counter\n",
    "        \n",
    "        itr = self.head\n",
    "        \n",
    "        while itr:\n",
    "            counter = 1 + counter\n",
    "            itr = itr.next\n",
    "        print(\"Length is: \", counter)\n",
    "        return counter\n",
    "    \n",
    "    def insert_at_beginning(self, data):\n",
    "        node = Node(data, self.head)\n",
    "        self.head = node\n",
    "    \n",
    "    def insert_at_end(self, data):\n",
    "        if self.head is None:\n",
    "            node = Node(data, self.head)\n",
    "            self.head = node\n",
    "            return\n",
    "        \n",
    "        itr = self.head\n",
    "        \n",
    "        while itr.next:\n",
    "            itr = itr.next \n",
    "            #this will iterate to last node where the itr.next is None\n",
    "            #this is then updated in the next line\n",
    "        \n",
    "        itr.next = Node(data, None)\n",
    "    \n",
    "    def insert_at(self, data, index):\n",
    "        \n",
    "        #check invalid index\n",
    "        if index < 0 or index >= self.getLength():\n",
    "            raise Exception(\"Invalid Index Entered\")\n",
    "        \n",
    "        #for first index only\n",
    "        if index == 0:\n",
    "            self.insert_at_beginning(data)\n",
    "        \n",
    "        #for any other index\n",
    "        itr = self.head\n",
    "        count = 0\n",
    "        \n",
    "        while itr:\n",
    "            if count == index - 1:\n",
    "                node = Node(data,itr.next)\n",
    "                itr.next = node\n",
    "                break\n",
    "            itr = itr.next\n",
    "            count += 1\n",
    "    \n",
    "    def remove_at(self, index):\n",
    "        \n",
    "        #check invalid index\n",
    "        if index < 0 or index >= self.getLength():\n",
    "            raise Exception(\"Invalid Index Entered\")\n",
    "        \n",
    "        #for first element only\n",
    "        if index == 0:\n",
    "            self.head = self.head.next\n",
    "        \n",
    "        #for any other element\n",
    "        itr = self.head\n",
    "        count = 0\n",
    "        \n",
    "        while itr:\n",
    "            if count == index - 1:\n",
    "                itr.next = itr.next.next\n",
    "                break\n",
    "            itr = itr.next\n",
    "            count += 1\n",
    "    \n",
    "    def insert_values(self, data):\n",
    "        for i in data:\n",
    "            self.insert_at_end(i)\n",
    "        \n",
    "    \n",
    "    def insert_after_value(self, data_after, data_to_insert):\n",
    "        itr = self.head\n",
    "        temp = 0\n",
    "        \n",
    "        while itr:\n",
    "            if itr.data == data_after:\n",
    "                node = Node(data_to_insert, itr.next)\n",
    "                itr.next = node\n",
    "                temp = 1\n",
    "                break\n",
    "            itr = itr.next\n",
    "        if temp != 1:\n",
    "            print(\"Given data point does not exist in list\")\n",
    "    \n",
    "    def remove_by_value(self, data):\n",
    "        if self.head.data == data:\n",
    "            self.head = self.head.next\n",
    "            return\n",
    "        \n",
    "        itr = self.head\n",
    "        temp = 0\n",
    "        \n",
    "        while itr.next:\n",
    "            if itr.next.data == data:\n",
    "                itr.next = itr.next.next\n",
    "                temp = 1\n",
    "                break\n",
    "            itr = itr.next\n",
    "\n",
    "        if temp != 1:\n",
    "            print(\"Given data point does not exist in list\")"
   ]
  },
  {
   "cell_type": "code",
   "execution_count": 136,
   "id": "70a14e51-e01f-4625-b80c-4c1745e125c6",
   "metadata": {},
   "outputs": [],
   "source": [
    "l1 = LinkedList()"
   ]
  },
  {
   "cell_type": "code",
   "execution_count": 108,
   "id": "ed2fc4e6-1afc-4238-8161-b258ba3ef025",
   "metadata": {},
   "outputs": [],
   "source": [
    "l1.insert_at_beginning(\"Third element\")"
   ]
  },
  {
   "cell_type": "code",
   "execution_count": 141,
   "id": "5a71da80-8e3d-418c-9d35-e1f5c8ecc65c",
   "metadata": {},
   "outputs": [
    {
     "name": "stdout",
     "output_type": "stream",
     "text": [
      "1 --> 3 --> 5 --> 7 --> \n"
     ]
    }
   ],
   "source": [
    "l1.print()"
   ]
  },
  {
   "cell_type": "code",
   "execution_count": 70,
   "id": "6d447af2-e722-4b75-bf8e-edc0e8587306",
   "metadata": {},
   "outputs": [],
   "source": [
    "l1.insert_at_end(\"lulz\")"
   ]
  },
  {
   "cell_type": "code",
   "execution_count": 137,
   "id": "08b8345e-79ca-4ddf-9527-63f0878730f8",
   "metadata": {},
   "outputs": [],
   "source": [
    "l1.insert_values([1,3,5,7,9])"
   ]
  },
  {
   "cell_type": "code",
   "execution_count": 111,
   "id": "6002762d-4a80-4c71-9a9c-d751463a1708",
   "metadata": {},
   "outputs": [],
   "source": [
    "l1.insert_after_value(\"Third element\",2)"
   ]
  },
  {
   "cell_type": "code",
   "execution_count": 142,
   "id": "f53f9c76-10b1-4352-8c00-0815c09fb658",
   "metadata": {},
   "outputs": [
    {
     "name": "stdout",
     "output_type": "stream",
     "text": [
      "Given data point does not exist in list\n"
     ]
    }
   ],
   "source": [
    "l1.remove_by_value(9)"
   ]
  },
  {
   "cell_type": "code",
   "execution_count": 77,
   "id": "fcc587bf-52ef-4d99-972e-fc904d4b3056",
   "metadata": {},
   "outputs": [],
   "source": [
    "data = [1,2,3,4]"
   ]
  },
  {
   "cell_type": "code",
   "execution_count": 78,
   "id": "bc9bc436-1fd7-475d-9e87-bf47b3f09380",
   "metadata": {},
   "outputs": [
    {
     "name": "stdout",
     "output_type": "stream",
     "text": [
      "1\n",
      "2\n",
      "3\n",
      "4\n"
     ]
    }
   ],
   "source": [
    "for i in data:\n",
    "    print (i)"
   ]
  },
  {
   "cell_type": "code",
   "execution_count": null,
   "id": "cdc9139f-2a67-42be-bd5e-60c9361cd8d2",
   "metadata": {},
   "outputs": [],
   "source": []
  }
 ],
 "metadata": {
  "kernelspec": {
   "display_name": "Python 3 (ipykernel)",
   "language": "python",
   "name": "python3"
  },
  "language_info": {
   "codemirror_mode": {
    "name": "ipython",
    "version": 3
   },
   "file_extension": ".py",
   "mimetype": "text/x-python",
   "name": "python",
   "nbconvert_exporter": "python",
   "pygments_lexer": "ipython3",
   "version": "3.9.7"
  }
 },
 "nbformat": 4,
 "nbformat_minor": 5
}
