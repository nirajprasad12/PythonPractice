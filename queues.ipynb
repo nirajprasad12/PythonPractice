{
 "cells": [
  {
   "cell_type": "code",
   "execution_count": 15,
   "id": "bde5a6c4-961f-41b9-85c2-de5b6799f0a9",
   "metadata": {},
   "outputs": [],
   "source": [
    "from collections import deque"
   ]
  },
  {
   "cell_type": "code",
   "execution_count": 2,
   "id": "5130d938-0645-4b87-b375-5bee5057a05c",
   "metadata": {},
   "outputs": [
    {
     "name": "stdout",
     "output_type": "stream",
     "text": [
      "deque(['Lulz', 12.5, 50, 25])\n",
      "4\n",
      "deque(['Lulz', 12.5])\n",
      "2\n"
     ]
    }
   ],
   "source": [
    "class Queue:\n",
    "    def __init__(self):\n",
    "        self.buffer = deque()\n",
    "    def enqueue(self, data):\n",
    "        self.buffer.appendleft(data)\n",
    "    def dequeue(self):\n",
    "        self.buffer.pop()\n",
    "    def queueSize(self):\n",
    "        print(len(self.buffer))\n",
    "    def dispQueue(self):\n",
    "        print(self.buffer)\n",
    "\n",
    "if __name__ == \"__main__\":\n",
    "    q1 = Queue()\n",
    "    q1.enqueue(25)\n",
    "    q1.enqueue(50)\n",
    "    q1.enqueue(12.5)\n",
    "    q1.enqueue(\"Lulz\")\n",
    "    q1.dispQueue()\n",
    "    q1.queueSize()\n",
    "    q1.dequeue()\n",
    "    q1.dequeue()\n",
    "    q1.dispQueue()\n",
    "    q1.queueSize()"
   ]
  },
  {
   "cell_type": "code",
   "execution_count": 10,
   "id": "b045591d-58df-48fb-9d1a-ea88047dfd95",
   "metadata": {},
   "outputs": [
    {
     "data": {
      "text/plain": [
       "deque(['Lulz', 12.5])"
      ]
     },
     "execution_count": 10,
     "metadata": {},
     "output_type": "execute_result"
    }
   ],
   "source": [
    "q1.buffer"
   ]
  },
  {
   "cell_type": "code",
   "execution_count": 11,
   "id": "ae774756-b774-48a9-91e8-e08be717de0a",
   "metadata": {},
   "outputs": [],
   "source": [
    "#exercise 1\n",
    "\n",
    "import time\n",
    "import threading\n",
    "\n",
    "class OrderQueue:\n",
    "    def __init__(self):\n",
    "        self.buffer = deque()\n",
    "        \n",
    "    def enqueue(self, data):\n",
    "        for i in data:\n",
    "            self.buffer.appendleft(i)\n",
    "            print(i, \" has been placed \\n\")\n",
    "            time.sleep(0.5)\n",
    "        \n",
    "    def dequeue(self):\n",
    "        time.sleep(1)\n",
    "        while True:\n",
    "            if self.queueSize() == 0:\n",
    "                break\n",
    "            print(self.buffer.pop(), \" has been served \\n\")\n",
    "            time.sleep(2)\n",
    "        \n",
    "    def queueSize(self):\n",
    "        return(len(self.buffer))\n",
    "        \n",
    "    def dispQueue(self):\n",
    "        print(self.buffer)"
   ]
  },
  {
   "cell_type": "code",
   "execution_count": 12,
   "id": "5d59ad2b-30dc-46b8-a7d8-60b7b304292e",
   "metadata": {},
   "outputs": [
    {
     "name": "stdout",
     "output_type": "stream",
     "text": [
      "pizza  has been placed \n",
      "\n",
      "samosa  has been placed \n",
      "\n",
      "pizza  has been served \n",
      "\n",
      "pasta  has been placed \n",
      "\n",
      "biryani  has been placed \n",
      "\n",
      "burger  has been placed \n",
      "\n",
      "samosa  has been served \n",
      "\n",
      "pasta  has been served \n",
      "\n",
      "biryani  has been served \n",
      "\n",
      "burger  has been served \n",
      "\n"
     ]
    }
   ],
   "source": [
    "orderArray = ['pizza','samosa','pasta','biryani','burger']\n",
    "\n",
    "q1 = OrderQueue()\n",
    "\n",
    "t1 = threading.Thread(target = q1.enqueue, args = (orderArray,))\n",
    "t2 = threading.Thread(target = q1.dequeue)\n",
    "\n",
    "t1.start()\n",
    "t2.start()\n",
    "\n",
    "t1.join()\n",
    "t2.join()\n"
   ]
  },
  {
   "cell_type": "code",
   "execution_count": null,
   "id": "c39fd947-7855-45be-90b7-20796e083f36",
   "metadata": {},
   "outputs": [],
   "source": [
    "# exercise 2"
   ]
  },
  {
   "cell_type": "code",
   "execution_count": 20,
   "id": "b151ab5c-5145-4efb-8428-24870c4c456a",
   "metadata": {},
   "outputs": [],
   "source": [
    "class Queue:\n",
    "    def __init__(self):\n",
    "        self.buffer = deque()\n",
    "    def enqueue(self, data):\n",
    "        self.buffer.appendleft(data)\n",
    "    def dequeue(self):\n",
    "        self.buffer.pop()\n",
    "    def queueSize(self):\n",
    "        print(len(self.buffer))\n",
    "    def dispQueue(self):\n",
    "        print(self.buffer)\n",
    "    def front(self):\n",
    "        return self.buffer[-1]\n",
    "        \n",
    "def BinaryQueue(n):\n",
    "    \n",
    "    numbers_queue = Queue()\n",
    "    numbers_queue.enqueue(\"1\")\n",
    "    \n",
    "    for i in range(n):\n",
    "        front = numbers_queue.front()\n",
    "        print(front)\n",
    "        numbers_queue.enqueue(front + \"0\")\n",
    "        numbers_queue.enqueue(front + \"1\")\n",
    "\n",
    "        numbers_queue.dequeue()"
   ]
  },
  {
   "cell_type": "code",
   "execution_count": 21,
   "id": "f67c07a4-db95-4f68-b19b-6bf376313404",
   "metadata": {},
   "outputs": [
    {
     "name": "stdout",
     "output_type": "stream",
     "text": [
      "1\n",
      "10\n",
      "11\n",
      "100\n",
      "101\n",
      "110\n",
      "111\n",
      "1000\n",
      "1001\n",
      "1010\n"
     ]
    }
   ],
   "source": [
    "BinaryQueue(10)"
   ]
  },
  {
   "cell_type": "code",
   "execution_count": null,
   "id": "53c9a0de-b4ae-4a48-8af3-139403cc981b",
   "metadata": {},
   "outputs": [],
   "source": []
  }
 ],
 "metadata": {
  "kernelspec": {
   "display_name": "Python 3 (ipykernel)",
   "language": "python",
   "name": "python3"
  },
  "language_info": {
   "codemirror_mode": {
    "name": "ipython",
    "version": 3
   },
   "file_extension": ".py",
   "mimetype": "text/x-python",
   "name": "python",
   "nbconvert_exporter": "python",
   "pygments_lexer": "ipython3",
   "version": "3.9.7"
  }
 },
 "nbformat": 4,
 "nbformat_minor": 5
}
