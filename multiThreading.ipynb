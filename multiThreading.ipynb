{
 "cells": [
  {
   "cell_type": "code",
   "execution_count": 3,
   "id": "6e35913f-e6b3-4624-ab7a-2e47dcf06f99",
   "metadata": {},
   "outputs": [],
   "source": [
    "import time"
   ]
  },
  {
   "cell_type": "code",
   "execution_count": 1,
   "id": "f8d7a52c-dbce-4ecb-8d97-9959bfe3ab0a",
   "metadata": {},
   "outputs": [],
   "source": [
    "def findSquare(numbers):\n",
    "    print(\"For square module\")\n",
    "    for i in numbers:\n",
    "        time.sleep(0.2)\n",
    "        print(\"Square of \", i, \" is: \", i**2)\n",
    "        \n",
    "def findCube(numbers):\n",
    "    print(\"For cube module\")\n",
    "    for i in numbers:\n",
    "        time.sleep(0.2)\n",
    "        print(\"Cube of \", i, \" is: \", i**3)\n"
   ]
  },
  {
   "cell_type": "code",
   "execution_count": 5,
   "id": "d4eb46ad-3ce1-4563-a926-3d4ae3f10d91",
   "metadata": {},
   "outputs": [
    {
     "name": "stdout",
     "output_type": "stream",
     "text": [
      "For square module\n",
      "Square of  2  is:  4\n",
      "Square of  4  is:  16\n",
      "Square of  6  is:  36\n",
      "Square of  8  is:  64\n",
      "For cube module\n",
      "Cube of  2  is:  8\n",
      "Cube of  4  is:  64\n",
      "Cube of  6  is:  216\n",
      "Cube of  8  is:  512\n",
      "Time taken:  1.6474401950836182\n"
     ]
    }
   ],
   "source": [
    "# no multithreading:\n",
    "\n",
    "array = [2,4,6,8]\n",
    "\n",
    "t = time.time()\n",
    "\n",
    "findSquare(array)\n",
    "findCube(array)\n",
    "\n",
    "print(\"Time taken: \", time.time()-t)"
   ]
  },
  {
   "cell_type": "code",
   "execution_count": 6,
   "id": "72ce04f0-3ae1-4fce-80a8-0adb5bd58fd2",
   "metadata": {},
   "outputs": [],
   "source": [
    "# With multithreading\n",
    "import threading"
   ]
  },
  {
   "cell_type": "code",
   "execution_count": 10,
   "id": "47cadd1a-2351-4eae-b3a3-51c55b5ea73b",
   "metadata": {},
   "outputs": [
    {
     "name": "stdout",
     "output_type": "stream",
     "text": [
      "For square moduleFor cube module\n",
      "\n",
      "Cube of Square of  2  is:  4\n",
      " 2  is:  8\n",
      "Cube of  4  is:  64\n",
      "Square of  4  is:  16\n",
      "Cube of Square of  6  is:  216\n",
      " 6  is:  36\n",
      "Square of  8  is:  64\n",
      "Cube of  8  is:  512\n",
      "1654271884.026321\n",
      "Time taken:  0.8233151435852051\n"
     ]
    }
   ],
   "source": [
    "array = [2,4,6,8]\n",
    "\n",
    "t = time.time()\n",
    "\n",
    "thread1 = threading.Thread(target = findSquare, args = (array,))\n",
    "thread2 = threading.Thread(target = findCube, args = (array,))\n",
    "\n",
    "thread1.start()\n",
    "thread2.start()\n",
    "\n",
    "thread1.join()\n",
    "thread2.join()\n",
    "\n",
    "print(time.time())\n",
    "\n",
    "print(\"Time taken: \", time.time()-t)"
   ]
  },
  {
   "cell_type": "code",
   "execution_count": null,
   "id": "e5e88ac0-5218-4e17-9f0a-e3adaa471085",
   "metadata": {},
   "outputs": [],
   "source": []
  },
  {
   "cell_type": "code",
   "execution_count": 13,
   "id": "fa6a1ad7-dda9-4198-b956-4d346d6cdaba",
   "metadata": {},
   "outputs": [
    {
     "data": {
      "text/plain": [
       "'Fri Jun  3 11:59:45 2022'"
      ]
     },
     "execution_count": 13,
     "metadata": {},
     "output_type": "execute_result"
    }
   ],
   "source": [
    "local_time = time.ctime(time.time())\n",
    "local_time"
   ]
  },
  {
   "cell_type": "code",
   "execution_count": null,
   "id": "d9b5d4e3-e67b-4d7e-9f1c-611f4263a00f",
   "metadata": {},
   "outputs": [],
   "source": []
  }
 ],
 "metadata": {
  "kernelspec": {
   "display_name": "Python 3 (ipykernel)",
   "language": "python",
   "name": "python3"
  },
  "language_info": {
   "codemirror_mode": {
    "name": "ipython",
    "version": 3
   },
   "file_extension": ".py",
   "mimetype": "text/x-python",
   "name": "python",
   "nbconvert_exporter": "python",
   "pygments_lexer": "ipython3",
   "version": "3.9.7"
  }
 },
 "nbformat": 4,
 "nbformat_minor": 5
}
