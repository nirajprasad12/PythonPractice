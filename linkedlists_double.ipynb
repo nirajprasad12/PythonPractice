{
 "cells": [
  {
   "cell_type": "code",
   "execution_count": 48,
   "id": "f27eec2f-a0eb-4502-bccd-8777be9f1586",
   "metadata": {},
   "outputs": [],
   "source": [
    "class Node:\n",
    "    def __init__(self, data = None, next = None, prev = None):\n",
    "        self.data = data\n",
    "        self.prev = prev\n",
    "        self.next = next"
   ]
  },
  {
   "cell_type": "code",
   "execution_count": 198,
   "id": "9ea0308e-41a1-403a-9bab-1ec0e8d85204",
   "metadata": {},
   "outputs": [],
   "source": [
    "class DoubleLinkedLists:\n",
    "    def __init__(self):\n",
    "        self.head = None\n",
    "        \n",
    "    def getLength(self):\n",
    "        itr = self.head\n",
    "        counter = 0\n",
    "        \n",
    "        while itr:\n",
    "            itr = itr.next\n",
    "            counter += 1\n",
    "        \n",
    "        return counter\n",
    "        \n",
    "    def findLastElement(self):\n",
    "        itr = self.head\n",
    "        while itr:\n",
    "            if itr.next == None:\n",
    "                return itr\n",
    "            itr = itr.next\n",
    "    \n",
    "    def printForward(self):\n",
    "        if self.head is None:\n",
    "            print(\"DLL is empty\")\n",
    "        \n",
    "        itr = self.head\n",
    "        llstr = ''\n",
    "        \n",
    "        while itr:\n",
    "            llstr += str(itr.data) + ' --> ' \n",
    "            itr = itr.next\n",
    "        \n",
    "        print(llstr)\n",
    "        \n",
    "        \n",
    "    def printBackward(self):\n",
    "        if self.head is None:\n",
    "            print(\"DLL is empty\")\n",
    "            return\n",
    "        \n",
    "        itr = self.findLastElement()\n",
    "        llstr = ''\n",
    "\n",
    "        while itr:\n",
    "            llstr += str(itr.data) + ' --> ' \n",
    "            itr = itr.prev\n",
    "\n",
    "        print(llstr)\n",
    "    \n",
    "    def addElementBeginning(self, data):\n",
    "        if self.head == None:\n",
    "            node = Node(data, self.head, None)\n",
    "            self.head = node\n",
    "        else:\n",
    "            node = Node(data, self.head, None)\n",
    "            self.head.prev = node\n",
    "            self.head = node\n",
    "    \n",
    "    def addElementEnd(self, data):\n",
    "        if self.head == None:\n",
    "            node = Node(data, self.head, None)\n",
    "            self.head = node\n",
    "            return\n",
    "        \n",
    "        last_node = self.findLastElement()\n",
    "        itr = self.head\n",
    "        \n",
    "        while itr:\n",
    "            if itr == last_node:\n",
    "                node = Node(data, None, itr)\n",
    "                itr.next = node\n",
    "                break\n",
    "            itr = itr.next\n",
    "    \n",
    "    def addElementAt(self, data, index):\n",
    "        if index == 0:\n",
    "            node = Node(data, None, None)\n",
    "            self.head = node\n",
    "            return\n",
    "        \n",
    "        itr = self.head\n",
    "        counter = 0\n",
    "        \n",
    "        while itr:\n",
    "            if counter == index - 1:\n",
    "                node = Node(data, itr.next, itr)\n",
    "                if node.next:\n",
    "                    node.next.prev = node\n",
    "                itr.next = node\n",
    "                break\n",
    "            itr = itr.next\n",
    "            counter += 1\n",
    "            \n",
    "    def removeAt(self, index):\n",
    "        if index < 0 or index > self.getLength():\n",
    "            raise Exception(\"Wrong index entered\")\n",
    "        \n",
    "        if index == 0:\n",
    "            self.head = self.head.next\n",
    "            self.head.prev = None\n",
    "            return\n",
    "        \n",
    "        itr = self.head\n",
    "        count = 0\n",
    "        \n",
    "        while itr:\n",
    "            if count == index:\n",
    "                itr.prev.next = itr.next\n",
    "                if itr.next:\n",
    "                    itr.next.prev = itr.prev\n",
    "                break\n",
    "            itr = itr.next\n",
    "            count = count + 1\n",
    "    \n",
    "    def insertValues(self, data):\n",
    "        \n",
    "        for j in data:\n",
    "            self.addElementBeginning(j)\n",
    "    \n",
    "        \n",
    "            \n",
    "            "
   ]
  },
  {
   "cell_type": "code",
   "execution_count": 199,
   "id": "69e84793-088d-4937-9d55-6c0786c59d16",
   "metadata": {},
   "outputs": [],
   "source": [
    "l1 = DoubleLinkedLists()"
   ]
  },
  {
   "cell_type": "code",
   "execution_count": 200,
   "id": "8059333b-8e86-46e1-b334-93ca56685a6c",
   "metadata": {},
   "outputs": [
    {
     "name": "stdout",
     "output_type": "stream",
     "text": [
      "DLL is empty\n"
     ]
    }
   ],
   "source": [
    "l1.printBackward()"
   ]
  },
  {
   "cell_type": "code",
   "execution_count": 201,
   "id": "3368d4c3-d8b7-4437-9083-82b4272b7f0c",
   "metadata": {},
   "outputs": [],
   "source": [
    "l1.insertValues([1,2,4,5,6,7,8,100,67])"
   ]
  },
  {
   "cell_type": "code",
   "execution_count": 202,
   "id": "f800803e-eaa3-458e-b5ad-627a4772b0b2",
   "metadata": {},
   "outputs": [
    {
     "name": "stdout",
     "output_type": "stream",
     "text": [
      "67 --> 100 --> 8 --> 7 --> 6 --> 5 --> 4 --> 2 --> 1 --> \n"
     ]
    }
   ],
   "source": [
    "l1.printForward()"
   ]
  },
  {
   "cell_type": "code",
   "execution_count": 192,
   "id": "88c69b0b-75e4-4846-9799-68400b396824",
   "metadata": {},
   "outputs": [],
   "source": [
    "l1.addElementEnd(25)"
   ]
  },
  {
   "cell_type": "code",
   "execution_count": 197,
   "id": "d4929bfc-367d-440e-bc3a-3ef8123cb982",
   "metadata": {},
   "outputs": [
    {
     "name": "stdout",
     "output_type": "stream",
     "text": [
      "600 --> 35 --> 30 --> 25 --> \n"
     ]
    }
   ],
   "source": [
    "l1.printForward()"
   ]
  },
  {
   "cell_type": "code",
   "execution_count": 208,
   "id": "4d1a4cfd-a8b3-4166-8aae-5e5c7cabd799",
   "metadata": {},
   "outputs": [],
   "source": [
    "l1.removeAt(3)"
   ]
  },
  {
   "cell_type": "code",
   "execution_count": 209,
   "id": "432eae72-8512-490b-af2a-2375147953e2",
   "metadata": {},
   "outputs": [
    {
     "name": "stdout",
     "output_type": "stream",
     "text": [
      "100 --> 7 --> 6 --> 4 --> 2 --> 1 --> \n"
     ]
    }
   ],
   "source": [
    "l1.printForward()"
   ]
  },
  {
   "cell_type": "code",
   "execution_count": null,
   "id": "e2c4367a-6497-4e1c-a368-2a4c43089651",
   "metadata": {},
   "outputs": [],
   "source": []
  }
 ],
 "metadata": {
  "kernelspec": {
   "display_name": "Python 3 (ipykernel)",
   "language": "python",
   "name": "python3"
  },
  "language_info": {
   "codemirror_mode": {
    "name": "ipython",
    "version": 3
   },
   "file_extension": ".py",
   "mimetype": "text/x-python",
   "name": "python",
   "nbconvert_exporter": "python",
   "pygments_lexer": "ipython3",
   "version": "3.9.7"
  }
 },
 "nbformat": 4,
 "nbformat_minor": 5
}
