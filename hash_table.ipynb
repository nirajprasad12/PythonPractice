{
 "cells": [
  {
   "cell_type": "markdown",
   "id": "9081425a-eb25-4c3b-bf8d-fb02ded871eb",
   "metadata": {},
   "source": [
    "## Hash table, or Hash map is nothing but a Python dictionary"
   ]
  },
  {
   "cell_type": "code",
   "execution_count": 1,
   "id": "e683a7cd-6f7c-4069-931b-5db23ea19687",
   "metadata": {},
   "outputs": [],
   "source": [
    "def get_hash(key):\n",
    "    h = 0\n",
    "    for char in key:\n",
    "        h += ord(char)\n",
    "    return h%100"
   ]
  },
  {
   "cell_type": "code",
   "execution_count": 17,
   "id": "52edb974-393f-4e6a-ad8b-0f47e73e0c89",
   "metadata": {},
   "outputs": [
    {
     "data": {
      "text/plain": [
       "9"
      ]
     },
     "execution_count": 17,
     "metadata": {},
     "output_type": "execute_result"
    }
   ],
   "source": [
    "get_hash(\"m\")"
   ]
  },
  {
   "cell_type": "code",
   "execution_count": 28,
   "id": "cf5be87a-3f6f-488c-878f-a84c6481d73f",
   "metadata": {},
   "outputs": [],
   "source": [
    "# let us create a class for the hash table\n",
    "\n",
    "class HashTable:\n",
    "    def __init__(self):\n",
    "        self.MAX = 100\n",
    "        self.arr = [None for i in range(self.MAX)]\n",
    "    \n",
    "    def get_hash(self, key):\n",
    "        h = 0\n",
    "        for char in key:\n",
    "            h += ord(char)\n",
    "        return h%self.MAX\n",
    "    \n",
    "    def add(self, key, value):\n",
    "        h = self.get_hash(key)\n",
    "        self.arr[h] = value\n",
    "    \n",
    "    def get(self, key):\n",
    "        h = self.get_hash(key)\n",
    "        return self.arr[h]\n",
    "    \n",
    "    def delete(self, key):\n",
    "        h = self.get_hash(key)\n",
    "        self.arr[h] = None\n",
    "        print(\"Value at given string index has been deleted\")"
   ]
  },
  {
   "cell_type": "code",
   "execution_count": 35,
   "id": "b86d7f7e-7e98-4312-acdf-4a732c9981c9",
   "metadata": {},
   "outputs": [],
   "source": [
    "h1 = HashTable()\n",
    "h1.add(\"Niraj\", \"DAE Student, NEU\")"
   ]
  },
  {
   "cell_type": "code",
   "execution_count": 33,
   "id": "60677845-3691-438d-b4da-cfe49c1bf8b4",
   "metadata": {},
   "outputs": [],
   "source": [
    "h1.get(\"Niraj\")"
   ]
  },
  {
   "cell_type": "code",
   "execution_count": 37,
   "id": "0622bda2-7b35-4676-98d2-fb5e6880d2d3",
   "metadata": {},
   "outputs": [
    {
     "name": "stdout",
     "output_type": "stream",
     "text": [
      "Value at given string index has been deleted\n"
     ]
    }
   ],
   "source": [
    "h1.delete(\"Niraj\")"
   ]
  },
  {
   "cell_type": "code",
   "execution_count": null,
   "id": "8a463204-fea8-4d12-9bf3-0938dffbe362",
   "metadata": {},
   "outputs": [],
   "source": []
  },
  {
   "cell_type": "code",
   "execution_count": 39,
   "id": "fd09810e-f935-40a1-ab2e-3b8590534696",
   "metadata": {},
   "outputs": [],
   "source": [
    "# above can be replaced by this:\n",
    "\n",
    "#actual dictionary implementation\n",
    "\n",
    "class HashTable:\n",
    "    def __init__(self):\n",
    "        self.MAX = 100\n",
    "        self.arr = [None for i in range(self.MAX)]\n",
    "    \n",
    "    def get_hash(self, key):\n",
    "        h = 0\n",
    "        for char in key:\n",
    "            h += ord(char)\n",
    "        return h%self.MAX\n",
    "    \n",
    "    def __setitem__(self, key, value):\n",
    "        h = self.get_hash(key)\n",
    "        self.arr[h] = value\n",
    "    \n",
    "    def __getitem__(self, key):\n",
    "        h = self.get_hash(key)\n",
    "        return self.arr[h]\n",
    "    \n",
    "    def __delitem__(self,key):\n",
    "        h = self.get_hash(key)\n",
    "        self.arr[h] = None\n",
    "        print(\"Value at given string index has been deleted\")"
   ]
  },
  {
   "cell_type": "code",
   "execution_count": 42,
   "id": "011fce58-ce04-4018-8287-ca11960fe855",
   "metadata": {},
   "outputs": [],
   "source": [
    "h2 = HashTable()\n",
    "h2[\"Niraj\"] = \"DAE Student, NEU\"\n",
    "h2[\"Sindhu\"] = \"DAE Student, NEU: Works at LineVision\"\n",
    "h2[\"Saakshi\"] = \"Future grad student\"\n",
    "h2[\"Boston\"] = \"Too hot\""
   ]
  },
  {
   "cell_type": "code",
   "execution_count": 46,
   "id": "e9884fd8-7168-4fc8-8b0a-58b4ab73738d",
   "metadata": {},
   "outputs": [],
   "source": [
    "h2[\"Boston\"]"
   ]
  },
  {
   "cell_type": "code",
   "execution_count": 45,
   "id": "2cc95d94-b75b-48fb-a9ca-a0ad05c984d8",
   "metadata": {},
   "outputs": [
    {
     "name": "stdout",
     "output_type": "stream",
     "text": [
      "Value at given string index has been deleted\n"
     ]
    }
   ],
   "source": [
    "del h2[\"Boston\"]"
   ]
  },
  {
   "cell_type": "markdown",
   "id": "f13bd13b-ff0f-472d-888d-b1b5359a7553",
   "metadata": {},
   "source": [
    "## Collision handling approach 1 using Linked Lists"
   ]
  },
  {
   "cell_type": "code",
   "execution_count": 57,
   "id": "b203ab40-a953-48d2-a262-a70addd7533e",
   "metadata": {},
   "outputs": [],
   "source": [
    "# let us create a class for the hash table\n",
    "# instead of storing None values, store arrays for linked lists\n",
    "\n",
    "class HashTable:\n",
    "    def __init__(self):\n",
    "        self.MAX = 100\n",
    "        self.arr = [[] for i in range(self.MAX)]\n",
    "    \n",
    "    def get_hash(self, key):\n",
    "        h = 0\n",
    "        for char in key:\n",
    "            h += ord(char)\n",
    "        return h%self.MAX\n",
    "    \n",
    "    def __setitem__(self, key, value):\n",
    "        h = self.get_hash(key)\n",
    "        found = False\n",
    "        for idx, element in enumerate(self.arr[h]):\n",
    "            print(len(element), element[0])\n",
    "        self.arr[h].append((key, value))\n",
    "    \n",
    "    def __getitem__(self, key):\n",
    "        h = self.get_hash(key)\n",
    "        return self.arr[h]\n",
    "    \n",
    "    def __delitem__(self,key):\n",
    "        h = self.get_hash(key)\n",
    "        self.arr[h] = None\n",
    "        print(\"Value at given string index has been deleted\")"
   ]
  },
  {
   "cell_type": "code",
   "execution_count": 58,
   "id": "8e49fc47-8854-4302-a4fe-cc15a50e975f",
   "metadata": {},
   "outputs": [],
   "source": [
    "h3 = HashTable()\n",
    "h3[\"Niraj\"] = \"DAE Student, NEU\"\n",
    "h3[\"Sindhu\"] = \"DAE Student, NEU: Works at LineVision\"\n",
    "h3[\"Saakshi\"] = \"Future grad student\"\n",
    "h3[\"Boston\"] = \"Too hot\"\n"
   ]
  },
  {
   "cell_type": "code",
   "execution_count": 60,
   "id": "e718939f-77b2-40fd-80dd-eb0e20d36e8b",
   "metadata": {},
   "outputs": [
    {
     "name": "stdout",
     "output_type": "stream",
     "text": [
      "2 Boston\n"
     ]
    }
   ],
   "source": [
    "h3[\"Boston\"] = \"But gets too cold in winter\""
   ]
  },
  {
   "cell_type": "code",
   "execution_count": 62,
   "id": "3f114e45-74b1-45a8-a403-727f2f41b55b",
   "metadata": {},
   "outputs": [
    {
     "name": "stdout",
     "output_type": "stream",
     "text": [
      "2 Boston\n",
      "2 Boston\n"
     ]
    }
   ],
   "source": [
    "h3[\"Boston\"] = \"Love the city, though!\""
   ]
  },
  {
   "cell_type": "code",
   "execution_count": 63,
   "id": "6c8c4ab2-24ff-4875-a681-50cd1b6fb345",
   "metadata": {},
   "outputs": [
    {
     "data": {
      "text/plain": [
       "[[('Niraj', 'DAE Student, NEU')],\n",
       " [],\n",
       " [],\n",
       " [],\n",
       " [],\n",
       " [],\n",
       " [],\n",
       " [],\n",
       " [('Saakshi', 'Future grad student')],\n",
       " [],\n",
       " [],\n",
       " [],\n",
       " [],\n",
       " [],\n",
       " [],\n",
       " [],\n",
       " [],\n",
       " [],\n",
       " [],\n",
       " [('Sindhu', 'DAE Student, NEU: Works at LineVision')],\n",
       " [],\n",
       " [],\n",
       " [],\n",
       " [],\n",
       " [],\n",
       " [],\n",
       " [],\n",
       " [],\n",
       " [],\n",
       " [('Boston', 'Too hot'),\n",
       "  ('Boston', 'But gets too cold in winter'),\n",
       "  ('Boston', 'Love the city, though!')],\n",
       " [],\n",
       " [],\n",
       " [],\n",
       " [],\n",
       " [],\n",
       " [],\n",
       " [],\n",
       " [],\n",
       " [],\n",
       " [],\n",
       " [],\n",
       " [],\n",
       " [],\n",
       " [],\n",
       " [],\n",
       " [],\n",
       " [],\n",
       " [],\n",
       " [],\n",
       " [],\n",
       " [],\n",
       " [],\n",
       " [],\n",
       " [],\n",
       " [],\n",
       " [],\n",
       " [],\n",
       " [],\n",
       " [],\n",
       " [],\n",
       " [],\n",
       " [],\n",
       " [],\n",
       " [],\n",
       " [],\n",
       " [],\n",
       " [],\n",
       " [],\n",
       " [],\n",
       " [],\n",
       " [],\n",
       " [],\n",
       " [],\n",
       " [],\n",
       " [],\n",
       " [],\n",
       " [],\n",
       " [],\n",
       " [],\n",
       " [],\n",
       " [],\n",
       " [],\n",
       " [],\n",
       " [],\n",
       " [],\n",
       " [],\n",
       " [],\n",
       " [],\n",
       " [],\n",
       " [],\n",
       " [],\n",
       " [],\n",
       " [],\n",
       " [],\n",
       " [],\n",
       " [],\n",
       " [],\n",
       " [],\n",
       " [],\n",
       " []]"
      ]
     },
     "execution_count": 63,
     "metadata": {},
     "output_type": "execute_result"
    }
   ],
   "source": [
    "h3.arr"
   ]
  },
  {
   "cell_type": "code",
   "execution_count": null,
   "id": "24b6ab56-ae7c-49e0-a948-69821f72b2d6",
   "metadata": {},
   "outputs": [],
   "source": []
  }
 ],
 "metadata": {
  "kernelspec": {
   "display_name": "Python 3 (ipykernel)",
   "language": "python",
   "name": "python3"
  },
  "language_info": {
   "codemirror_mode": {
    "name": "ipython",
    "version": 3
   },
   "file_extension": ".py",
   "mimetype": "text/x-python",
   "name": "python",
   "nbconvert_exporter": "python",
   "pygments_lexer": "ipython3",
   "version": "3.9.7"
  }
 },
 "nbformat": 4,
 "nbformat_minor": 5
}
