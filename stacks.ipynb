{
 "cells": [
  {
   "cell_type": "code",
   "execution_count": 60,
   "id": "9322eade-750b-4ce8-95ca-7eae2bb04446",
   "metadata": {},
   "outputs": [],
   "source": [
    "s = []\n",
    "\n",
    "s.append('url0')\n",
    "s.append('url1')\n",
    "s.append('url2')\n",
    "s.append('url3')\n",
    "s.append('url4')\n",
    "s.append('url5')"
   ]
  },
  {
   "cell_type": "code",
   "execution_count": 61,
   "id": "bfd18cfa-ca19-4f28-bfca-9095f97f8157",
   "metadata": {},
   "outputs": [
    {
     "data": {
      "text/plain": [
       "['url0', 'url1', 'url2', 'url3', 'url4', 'url5']"
      ]
     },
     "execution_count": 61,
     "metadata": {},
     "output_type": "execute_result"
    }
   ],
   "source": [
    "s"
   ]
  },
  {
   "cell_type": "code",
   "execution_count": 62,
   "id": "54c86b51-9289-47b2-9957-784e577dc964",
   "metadata": {},
   "outputs": [
    {
     "data": {
      "text/plain": [
       "'url5'"
      ]
     },
     "execution_count": 62,
     "metadata": {},
     "output_type": "execute_result"
    }
   ],
   "source": [
    "s.pop()"
   ]
  },
  {
   "cell_type": "markdown",
   "id": "6ebd7255-5b3f-4a39-b1fa-bdc9a5995df7",
   "metadata": {},
   "source": [
    "List cannot be used as a stack in python because what if it is a dynamic array?\n",
    "\n",
    "Values can keep changing, creates new memory location, so it is not viable.\n",
    "\n",
    "use - collections.deque"
   ]
  },
  {
   "cell_type": "code",
   "execution_count": 63,
   "id": "8878825c-0fda-4f75-b548-5f9d1328b984",
   "metadata": {},
   "outputs": [],
   "source": [
    "from collections import deque"
   ]
  },
  {
   "cell_type": "code",
   "execution_count": 64,
   "id": "56ef91fb-ce33-47a1-8dd0-1ebef0cd6301",
   "metadata": {},
   "outputs": [],
   "source": [
    "stack = deque()"
   ]
  },
  {
   "cell_type": "code",
   "execution_count": 65,
   "id": "1016e9b5-83de-4c4f-abfc-94f4c25b8aca",
   "metadata": {},
   "outputs": [
    {
     "data": {
      "text/plain": [
       "['__add__',\n",
       " '__bool__',\n",
       " '__class__',\n",
       " '__class_getitem__',\n",
       " '__contains__',\n",
       " '__copy__',\n",
       " '__delattr__',\n",
       " '__delitem__',\n",
       " '__dir__',\n",
       " '__doc__',\n",
       " '__eq__',\n",
       " '__format__',\n",
       " '__ge__',\n",
       " '__getattribute__',\n",
       " '__getitem__',\n",
       " '__gt__',\n",
       " '__hash__',\n",
       " '__iadd__',\n",
       " '__imul__',\n",
       " '__init__',\n",
       " '__init_subclass__',\n",
       " '__iter__',\n",
       " '__le__',\n",
       " '__len__',\n",
       " '__lt__',\n",
       " '__mul__',\n",
       " '__ne__',\n",
       " '__new__',\n",
       " '__reduce__',\n",
       " '__reduce_ex__',\n",
       " '__repr__',\n",
       " '__reversed__',\n",
       " '__rmul__',\n",
       " '__setattr__',\n",
       " '__setitem__',\n",
       " '__sizeof__',\n",
       " '__str__',\n",
       " '__subclasshook__',\n",
       " 'append',\n",
       " 'appendleft',\n",
       " 'clear',\n",
       " 'copy',\n",
       " 'count',\n",
       " 'extend',\n",
       " 'extendleft',\n",
       " 'index',\n",
       " 'insert',\n",
       " 'maxlen',\n",
       " 'pop',\n",
       " 'popleft',\n",
       " 'remove',\n",
       " 'reverse',\n",
       " 'rotate']"
      ]
     },
     "execution_count": 65,
     "metadata": {},
     "output_type": "execute_result"
    }
   ],
   "source": [
    "dir(stack)"
   ]
  },
  {
   "cell_type": "code",
   "execution_count": 68,
   "id": "ac027c10-1868-4e9b-89a4-5e5a549beb4c",
   "metadata": {},
   "outputs": [],
   "source": [
    "stack.append(\"url2\")"
   ]
  },
  {
   "cell_type": "code",
   "execution_count": 75,
   "id": "ecedcd13-ad94-47ab-b221-2211173671c7",
   "metadata": {},
   "outputs": [],
   "source": [
    "stack.reverse()"
   ]
  },
  {
   "cell_type": "code",
   "execution_count": 76,
   "id": "00fa1b20-4682-47d0-8dba-b6f2c678aed5",
   "metadata": {},
   "outputs": [
    {
     "data": {
      "text/plain": [
       "deque(['url0', 'url1', 'url2'])"
      ]
     },
     "execution_count": 76,
     "metadata": {},
     "output_type": "execute_result"
    }
   ],
   "source": [
    "stack"
   ]
  },
  {
   "cell_type": "markdown",
   "id": "63a66e05-8833-4545-bc2a-e9e20143feaf",
   "metadata": {},
   "source": [
    "Now let us create a stack class"
   ]
  },
  {
   "cell_type": "code",
   "execution_count": 117,
   "id": "eec61005-9780-44c8-a95c-6abd741bffdf",
   "metadata": {},
   "outputs": [],
   "source": [
    "class StackFunction:\n",
    "    def __init__(self):\n",
    "        self.container = deque()\n",
    "        \n",
    "    def push(self, value):\n",
    "        self.container.append(value)\n",
    "        \n",
    "    def pop(self):\n",
    "        return self.container.pop()\n",
    "    \n",
    "    def peek(self):\n",
    "        return self.container[-1]\n",
    "\n",
    "    def is_empty(self):\n",
    "        return len(self.container) == 0\n",
    "    \n",
    "    def size(self):\n",
    "        return len(self.container)\n",
    "        \n",
    "    def display_stack(self):\n",
    "        return self.container\n",
    "\n",
    "def reverse_string(s):\n",
    "    \n",
    "    stack = StackFunction()\n",
    "    \n",
    "    for i in s:\n",
    "        stack.push(i)\n",
    "    \n",
    "    reverse_string = ''\n",
    "    \n",
    "    while stack.size()!= 0:\n",
    "        reverse_string = reverse_string + stack.pop()\n",
    "    \n",
    "    return reverse_string\n",
    "\n",
    "def paranthesis_balance(s):\n",
    "    \n",
    "    stack = StackFunction()\n",
    "    \n",
    "    for i in s:\n",
    "        stack.push(i)\n",
    "    \n",
    "    count_flower = 0\n",
    "    count_reg = 0\n",
    "    count_square = 0\n",
    "    \n",
    "    size = stack.size()\n",
    "    \n",
    "    for j in range(0,size):\n",
    "        if stack.display_stack()[j] == '[' or stack.display_stack()[j] == ']':\n",
    "            count_square = count_square + 1\n",
    "        \n",
    "        if stack.display_stack()[j] == '(' or stack.display_stack()[j] == ')':\n",
    "            count_reg = count_reg + 1\n",
    "            \n",
    "        if stack.display_stack()[j] == '{' or stack.display_stack()[j] == '}':\n",
    "            count_flower = count_flower + 1\n",
    "    \n",
    "    if count_flower % 2 != 0:\n",
    "        print(\"{} braket missing\")\n",
    "    elif count_reg % 2 != 0:\n",
    "        print(\"() braket missing\")\n",
    "    elif count_square % 2 != 0:\n",
    "        print(\"[] braket missing\")\n",
    "    else:\n",
    "        print(\"Your code is all good\")\n",
    "    \n",
    "    "
   ]
  },
  {
   "cell_type": "code",
   "execution_count": 118,
   "id": "60e3d790-2865-4578-8003-23c436672be0",
   "metadata": {},
   "outputs": [
    {
     "name": "stdout",
     "output_type": "stream",
     "text": [
      "!atraps si sihT\n"
     ]
    }
   ],
   "source": [
    "print(reverse_string(\"This is sparta!\"))"
   ]
  },
  {
   "cell_type": "code",
   "execution_count": 125,
   "id": "7e7339ac-d738-4013-90a8-9b9bf8dc6425",
   "metadata": {},
   "outputs": [
    {
     "name": "stdout",
     "output_type": "stream",
     "text": [
      "Your code is all good\n"
     ]
    }
   ],
   "source": [
    "paranthesis_balance(\"S[ystem.out.println({})]\")"
   ]
  },
  {
   "cell_type": "code",
   "execution_count": 87,
   "id": "a9c6b906-9170-4416-aa1b-0a8763d4a419",
   "metadata": {},
   "outputs": [],
   "source": [
    "a = StackFunction()"
   ]
  },
  {
   "cell_type": "code",
   "execution_count": 88,
   "id": "1582e691-6b45-484c-bd39-cd61e6a631f6",
   "metadata": {},
   "outputs": [],
   "source": [
    "a.push(20)"
   ]
  },
  {
   "cell_type": "code",
   "execution_count": 89,
   "id": "432ad3bf-c8cf-46a9-9b50-7bd546748527",
   "metadata": {},
   "outputs": [],
   "source": [
    "a.push(\"Hello\")"
   ]
  },
  {
   "cell_type": "code",
   "execution_count": 90,
   "id": "c91a89c3-cd9c-4111-8357-112fe6087dc6",
   "metadata": {},
   "outputs": [],
   "source": [
    "a.push(\"Third element\")"
   ]
  },
  {
   "cell_type": "code",
   "execution_count": 91,
   "id": "9497e3c2-76f8-44cf-bf53-d84bbc82851a",
   "metadata": {},
   "outputs": [
    {
     "data": {
      "text/plain": [
       "'Third element'"
      ]
     },
     "execution_count": 91,
     "metadata": {},
     "output_type": "execute_result"
    }
   ],
   "source": [
    "a.peek()"
   ]
  },
  {
   "cell_type": "code",
   "execution_count": 92,
   "id": "438bda9d-1722-4349-8ed7-257a72b396cf",
   "metadata": {},
   "outputs": [
    {
     "data": {
      "text/plain": [
       "'Third element'"
      ]
     },
     "execution_count": 92,
     "metadata": {},
     "output_type": "execute_result"
    }
   ],
   "source": [
    "a.pop()"
   ]
  },
  {
   "cell_type": "code",
   "execution_count": 97,
   "id": "157ef27b-2f14-41fc-a2bf-725d2056a73a",
   "metadata": {},
   "outputs": [
    {
     "data": {
      "text/plain": [
       "deque(['Hello', 20])"
      ]
     },
     "execution_count": 97,
     "metadata": {},
     "output_type": "execute_result"
    }
   ],
   "source": [
    "a.display_stack()"
   ]
  },
  {
   "cell_type": "code",
   "execution_count": 98,
   "id": "86e56c08-4ebd-4d36-bb9d-44d4ee550de6",
   "metadata": {},
   "outputs": [],
   "source": [
    "a.reverse()"
   ]
  },
  {
   "cell_type": "code",
   "execution_count": 99,
   "id": "ee62be8d-7e05-489c-a299-fb3fbdf5ce00",
   "metadata": {},
   "outputs": [
    {
     "data": {
      "text/plain": [
       "deque([20, 'Hello'])"
      ]
     },
     "execution_count": 99,
     "metadata": {},
     "output_type": "execute_result"
    }
   ],
   "source": [
    "a.display_stack()"
   ]
  },
  {
   "cell_type": "code",
   "execution_count": 57,
   "id": "1751c34b-3118-4f26-afbf-823721daefb4",
   "metadata": {},
   "outputs": [
    {
     "ename": "IndexError",
     "evalue": "pop from an empty deque",
     "output_type": "error",
     "traceback": [
      "\u001b[0;31m---------------------------------------------------------------------------\u001b[0m",
      "\u001b[0;31mIndexError\u001b[0m                                Traceback (most recent call last)",
      "Input \u001b[0;32mIn [57]\u001b[0m, in \u001b[0;36m<module>\u001b[0;34m\u001b[0m\n\u001b[0;32m----> 1\u001b[0m \u001b[43ma\u001b[49m\u001b[38;5;241;43m.\u001b[39;49m\u001b[43mpop\u001b[49m\u001b[43m(\u001b[49m\u001b[43m)\u001b[49m\n",
      "Input \u001b[0;32mIn [47]\u001b[0m, in \u001b[0;36mStackFunction.pop\u001b[0;34m(self)\u001b[0m\n\u001b[1;32m      8\u001b[0m \u001b[38;5;28;01mdef\u001b[39;00m \u001b[38;5;21mpop\u001b[39m(\u001b[38;5;28mself\u001b[39m):\n\u001b[0;32m----> 9\u001b[0m     \u001b[38;5;28;01mreturn\u001b[39;00m \u001b[38;5;28;43mself\u001b[39;49m\u001b[38;5;241;43m.\u001b[39;49m\u001b[43mcontainer\u001b[49m\u001b[38;5;241;43m.\u001b[39;49m\u001b[43mpop\u001b[49m\u001b[43m(\u001b[49m\u001b[43m)\u001b[49m\n",
      "\u001b[0;31mIndexError\u001b[0m: pop from an empty deque"
     ]
    }
   ],
   "source": []
  },
  {
   "cell_type": "code",
   "execution_count": 58,
   "id": "238cba1e-3bf5-49fe-8bc8-46de1c6aa46c",
   "metadata": {},
   "outputs": [
    {
     "data": {
      "text/plain": [
       "True"
      ]
     },
     "execution_count": 58,
     "metadata": {},
     "output_type": "execute_result"
    }
   ],
   "source": [
    "a.is_empty()"
   ]
  },
  {
   "cell_type": "code",
   "execution_count": 59,
   "id": "04c4702d-e938-4c05-bd52-36dbeb75354c",
   "metadata": {},
   "outputs": [
    {
     "data": {
      "text/plain": [
       "0"
      ]
     },
     "execution_count": 59,
     "metadata": {},
     "output_type": "execute_result"
    }
   ],
   "source": [
    "a.size()"
   ]
  },
  {
   "cell_type": "code",
   "execution_count": 104,
   "id": "397e813a-a19f-4efc-9c63-bb8dcfd27db2",
   "metadata": {},
   "outputs": [],
   "source": [
    "a = deque()"
   ]
  },
  {
   "cell_type": "code",
   "execution_count": 107,
   "id": "7c4a878d-122a-4a6f-8783-9a9d4b1e6348",
   "metadata": {},
   "outputs": [],
   "source": [
    "a.append('World')"
   ]
  },
  {
   "cell_type": "code",
   "execution_count": 109,
   "id": "eaeab151-6e1e-48d2-9903-a1afc3736fae",
   "metadata": {},
   "outputs": [
    {
     "data": {
      "text/plain": [
       "'Hello'"
      ]
     },
     "execution_count": 109,
     "metadata": {},
     "output_type": "execute_result"
    }
   ],
   "source": [
    "a[0]"
   ]
  },
  {
   "cell_type": "code",
   "execution_count": null,
   "id": "dcb8915c-934e-4f72-a524-c170500f40d5",
   "metadata": {},
   "outputs": [],
   "source": []
  }
 ],
 "metadata": {
  "kernelspec": {
   "display_name": "Python 3 (ipykernel)",
   "language": "python",
   "name": "python3"
  },
  "language_info": {
   "codemirror_mode": {
    "name": "ipython",
    "version": 3
   },
   "file_extension": ".py",
   "mimetype": "text/x-python",
   "name": "python",
   "nbconvert_exporter": "python",
   "pygments_lexer": "ipython3",
   "version": "3.9.7"
  }
 },
 "nbformat": 4,
 "nbformat_minor": 5
}
